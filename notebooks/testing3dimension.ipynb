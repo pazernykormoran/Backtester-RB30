{
 "cells": [
  {
   "cell_type": "code",
   "execution_count": 18,
   "metadata": {},
   "outputs": [],
   "source": [
    "import numpy as np\n",
    "arr = [\n",
    "    [['eth_price', 'eth_volume'],[1,2],[2,3],[3,4],[1,2],[2,3],[3,4]],\n",
    "    [['value', 'volume'],[1,2],[2,6],[3,4],[1,2],[2,3],[3,4]],\n",
    "    [['value', 'volume'],[1,2],[2,3],[3,4],[1,2],[2,3],[3,4]],\n",
    "    [['value', 'volume'],[1,2],[2,3],[3,4],[1,2],[2,3],[3,4]],\n",
    "]\n",
    "np_array = np.array(arr)"
   ]
  },
  {
   "cell_type": "code",
   "execution_count": 12,
   "metadata": {},
   "outputs": [],
   "source": [
    "from datetime import datetime\n",
    "aar1 = [[],[],[],[],[]]"
   ]
  },
  {
   "cell_type": "code",
   "execution_count": 37,
   "metadata": {},
   "outputs": [],
   "source": [
    "import pandas as pd\n",
    "df = pd.DataFrame({'date':[1348841755000, 1356704155000, 1362060955000, 1367158555000, 1372428955000],\n",
    "                   'a':[9,5,1,2,3]}, columns=['date', 'a'])"
   ]
  },
  {
   "cell_type": "code",
   "execution_count": 38,
   "metadata": {},
   "outputs": [],
   "source": [
    "from backtesterRB30.libs.utils.timestamps import datetime_to_timestamp, timestamp_to_datetime\n",
    "\n",
    "dfs = df.groupby(df['date'].map(lambda x: timestamp_to_datetime(x).year))"
   ]
  },
  {
   "cell_type": "code",
   "execution_count": 39,
   "metadata": {},
   "outputs": [
    {
     "name": "stdout",
     "output_type": "stream",
     "text": [
      "            date  a\n",
      "0  1348841755000  9\n",
      "1  1356704155000  5\n",
      "            date  a\n",
      "2  1362060955000  1\n",
      "3  1367158555000  2\n",
      "4  1372428955000  3\n"
     ]
    }
   ],
   "source": [
    "for year, d in dfs: \n",
    "    print(d)"
   ]
  },
  {
   "cell_type": "code",
   "execution_count": null,
   "metadata": {},
   "outputs": [],
   "source": []
  }
 ],
 "metadata": {
  "kernelspec": {
   "display_name": "Python 3.8.10 64-bit",
   "language": "python",
   "name": "python3"
  },
  "language_info": {
   "codemirror_mode": {
    "name": "ipython",
    "version": 3
   },
   "file_extension": ".py",
   "mimetype": "text/x-python",
   "name": "python",
   "nbconvert_exporter": "python",
   "pygments_lexer": "ipython3",
   "version": "3.8.10"
  },
  "orig_nbformat": 4,
  "vscode": {
   "interpreter": {
    "hash": "916dbcbb3f70747c44a77c7bcd40155683ae19c65e1c03b4aa3499c5328201f1"
   }
  }
 },
 "nbformat": 4,
 "nbformat_minor": 2
}
